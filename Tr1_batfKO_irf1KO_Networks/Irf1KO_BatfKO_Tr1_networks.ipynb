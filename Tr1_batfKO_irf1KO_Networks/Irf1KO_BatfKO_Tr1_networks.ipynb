{
 "cells": [
  {
   "cell_type": "code",
   "execution_count": 1,
   "metadata": {
    "collapsed": false
   },
   "outputs": [],
   "source": [
    "# IRF1 KO and BATF KO networks from Figures 7E-I, Supplemental Figures 7-8, Karwacz et al. 2016.\n",
    "# INSTRUCTIONS to visualize networks:\n",
    "# 1. Select \"Cell\" and then click \"Run All\"\n",
    "# 2. Draft Documentation for this tool can be found here:\n",
    "#    https://github.com/simonsfoundation/jp_gene_viz/blob/master/doc/dNetwork%20widget%20overview.ipynb"
   ]
  },
  {
   "cell_type": "code",
   "execution_count": 2,
   "metadata": {
    "collapsed": true
   },
   "outputs": [],
   "source": [
    "# list of tuples (network file, network title, network's gene expression condition for node coloring)\n",
    "networkInits = [(\"Tr1Irf1_comb_koATAC_sp.tsv\",\"Tr1: Irf1KO v Control\",'Tr1 Irf1 Prior (dTF)'),\n",
    "    (\"Tr1Batf_comb_koATAC_sp.tsv\",\"Tr1: BatfKO v Control\",'Tr1 BatfKO Prior (dTF)')]\n",
    "\n",
    "# gene expression data, log2-fold-changes estimated by DESeq2\n",
    "expressionFile = \"Tr1_72h_RNAseq.txt\"\n",
    "\n",
    "# Genes highlighted in Figure 7G (IRF1 KO):\n",
    "# stat1 irf1 prf1 ccr5 il10 il13ra1 ccl3 zbp1 id3 klf7 ccl4 ifng\n",
    "# Genes highlighted in Figure 7H (BATF KO):\n",
    "# maf il23r il12rb2 il24 batf fosl2 il10 hlx klf10 prdm1 batf ets1 prf1 runx2 hif1a icos il2 csf2 cxcr5 nfkb2 il1rn \n",
    "# (These can be copied and pasted into the \"match\" box below so that only corresponding subnetwork can be seen.)\n",
    "\n",
    "directory = \".\"\n",
    "\n",
    "threshhold0 = .5 # initial threshhold for edge weights"
   ]
  },
  {
   "cell_type": "code",
   "execution_count": 3,
   "metadata": {
    "collapsed": false
   },
   "outputs": [
    {
     "data": {
      "application/javascript": [
       "\n",
       "// This is the javascript side to match js_proxy.py.\n",
       "// See js_proxy.py for an explanation of the command transfer\n",
       "// protocol\n",
       "\n",
       "// imitating ipywidgets/docs/source/examples/Custom Widget - Hello World.ipynb\n",
       "\n",
       "//require([\"widgets/js/widget\", \"widgets/js/manager\", \"underscore\", \"jquery\"\n",
       "//], function(widget, manager, _, $) {\n",
       "\n",
       "require.undef(\"JSProxy\");\n",
       "\n",
       "define(\"JSProxy\", [\"jupyter-js-widgets\"], function(widgets) {\n",
       "\n",
       "    var JSProxyView = widgets.DOMWidgetView.extend({\n",
       "\n",
       "        render: function() {\n",
       "            var that = this;\n",
       "            that.on(\"displayed\", function() {\n",
       "                that.update();\n",
       "            });\n",
       "            // Wrap $el as a proper jQuery object\n",
       "            that.$$el = $(that.$el);\n",
       "            // \"new\" keyword emulation\n",
       "            // http://stackoverflow.com/questions/17342497/dynamically-control-arguments-while-creating-objects-in-javascript\n",
       "            that.$$el.New = function(klass, args) {\n",
       "                var obj = Object.create(klass.prototype);\n",
       "                return klass.apply(obj, args) || obj;\n",
       "            };\n",
       "\n",
       "            // fix key bindings for wayward element.\n",
       "            // XXXX This is a bit of a hack that may not be needed in future\n",
       "            // Jupyter releases.\n",
       "            that.$$el.Fix = function(element) {\n",
       "                debugger;\n",
       "                that.model.widget_manager.keyboard_manager.register_events(element);\n",
       "            };\n",
       "        },\n",
       "\n",
       "        update: function(options) {\n",
       "            var that = this;\n",
       "            var commands = that.model.get(\"commands\");\n",
       "            if (commands.length >= 2) {\n",
       "                var command_counter = commands[0];\n",
       "                var command_list = commands[1];\n",
       "                var level = commands[2];\n",
       "                level = that.check_level(level);\n",
       "                var results = [];\n",
       "                _.each(command_list, function(command,i) {\n",
       "                    var result = that.execute_command(command);\n",
       "                    results[i] = that.json_safe(result, level);\n",
       "                });\n",
       "                that.model.set(\"commands\", []);\n",
       "                that.model.set(\"results\", [command_counter, results])\n",
       "                that.touch();\n",
       "            }\n",
       "        },\n",
       "\n",
       "        execute_command: function(command) {\n",
       "            var that = this;\n",
       "            var result = command;\n",
       "            if ($.isArray(command)) {\n",
       "                var indicator = command[0];\n",
       "                var remainder = command.slice();\n",
       "                remainder.shift();\n",
       "                if (indicator == \"element\") {\n",
       "                    // Make sure the element is wrapped as a proper JQuery(UI) object\n",
       "                    if (!that.$$el) {\n",
       "                        that.$$el = $(that.$el);\n",
       "                    }\n",
       "                    result = that.$$el;\n",
       "                } else if (indicator == \"window\") {\n",
       "                    result = window;\n",
       "                } else if (indicator == \"method\") {\n",
       "                    var target_desc = remainder.shift();\n",
       "                    var target = that.execute_command(target_desc);\n",
       "                    var name = remainder.shift();\n",
       "                    var args = remainder.map(that.execute_command, that);\n",
       "                    var method = target[name];\n",
       "                    if (method) {\n",
       "                        result = method.apply(target, args);\n",
       "                    } else {\n",
       "                        result = \"In \" + target + \" no such method \" + name;\n",
       "                    }\n",
       "                } else if (indicator == \"function\") {\n",
       "                    var function_desc = remainder.shift();\n",
       "                    var function_value = that.execute_command(function_desc);\n",
       "                    var args = remainder.map(that.execute_command, that);\n",
       "                    // Use \"that\" as the \"this\" value for function values?\n",
       "                    result = function_value.apply(that, args);\n",
       "                } else if (indicator == \"id\") {\n",
       "                    result = remainder[0];\n",
       "                } else if (indicator == \"list\") {\n",
       "                    result = remainder.map(that.execute_command, that);\n",
       "                } else if (indicator == \"dict\") {\n",
       "                    result = {}\n",
       "                    var desc = remainder[0];\n",
       "                    for (var key in desc) {\n",
       "                        var key_desc = desc[key];\n",
       "                        var val = that.execute_command(key_desc);\n",
       "                        result[key] = val;\n",
       "                    }\n",
       "                } else if (indicator == \"callback\") {\n",
       "                    var identifier = remainder.shift();\n",
       "                    var data = remainder.shift();\n",
       "                    var level = remainder.shift();\n",
       "                    // sanity check\n",
       "                    level = that.check_level(level);\n",
       "                    result = that.callback_factory(identifier, data, level);\n",
       "                } else if (indicator == \"get\") {\n",
       "                    var target_desc = remainder.shift();\n",
       "                    var target = that.execute_command(target_desc);\n",
       "                    var name = remainder.shift();\n",
       "                    try {\n",
       "                        result = target[name];\n",
       "                    } catch(err) {\n",
       "                        result = \"failed to get \"+name+\" from \"+target+\" :: \"+err;\n",
       "                    }\n",
       "                } else if (indicator == \"set\") {\n",
       "                    var target_desc = remainder.shift();\n",
       "                    var target = that.execute_command(target_desc);\n",
       "                    var name = remainder.shift();\n",
       "                    var value_desc = remainder.shift()\n",
       "                    var value = that.execute_command(value_desc);\n",
       "                    target[name] = value;\n",
       "                    result = target;\n",
       "                } else if (indicator == \"null\") {\n",
       "                    target_desc = remainder.shift();\n",
       "                    that.execute_command(target_desc);\n",
       "                    result = null;\n",
       "                } else {\n",
       "                    result = \"Unknown indicator \" + indicator;\n",
       "                }\n",
       "            }\n",
       "            return result;\n",
       "        },\n",
       "\n",
       "        check_level: function(level) {\n",
       "            if ((typeof level) != \"number\" || (level < 0)) {\n",
       "                level = 0;\n",
       "            } else if (level > 5) {\n",
       "                level = 5;\n",
       "            }\n",
       "            return level;\n",
       "        },\n",
       "\n",
       "        callback_factory: function(identifier, data, level) {\n",
       "            var that = this;\n",
       "            // Counter makes sure change is noticed even if other arguments don't change.\n",
       "            var counter = 0;\n",
       "            var handler = function () {\n",
       "                counter += 1;\n",
       "                var payload = that.json_safe([identifier, data, arguments, counter], level + 1);\n",
       "                that.model.set(\"callback_results\", payload);\n",
       "                that.touch();\n",
       "            };\n",
       "            return handler;\n",
       "        },\n",
       "\n",
       "        json_safe: function(val, depth) {\n",
       "            // maybe expand later as need arises\n",
       "            var that = this;\n",
       "            var ty = (typeof val);\n",
       "            if ((ty == \"number\") || (ty == \"string\") || (ty == \"boolean\")) {\n",
       "                return val;\n",
       "            }\n",
       "            if (!val) {\n",
       "                // translate all other falsies to None\n",
       "                return null;\n",
       "            }\n",
       "            if (((typeof depth) == \"number\") && (depth > 0)) {\n",
       "                if ($.isArray(val)) {\n",
       "                    var result = [];\n",
       "                    _.each(val, function(elt, i) {\n",
       "                        var r = that.json_safe(elt, depth-1);\n",
       "                        if (r != null) {\n",
       "                            result[i] = r;\n",
       "                        }\n",
       "                    });\n",
       "                    return result;\n",
       "                } else {\n",
       "                    var result = {};\n",
       "                    for (var key in val) {\n",
       "                        var jv = that.json_safe(val[key], depth-1);\n",
       "                        if (jv != null) {\n",
       "                            result[key] = jv;\n",
       "                        }\n",
       "                    }\n",
       "                    return result;\n",
       "                }\n",
       "            }\n",
       "            return null;\n",
       "        }\n",
       "\n",
       "    });\n",
       "\n",
       "    //manager.WidgetManager.register_widget_view('JSProxyView', JSProxyView);\n",
       "    return {\n",
       "        JSProxyView: JSProxyView\n",
       "    }\n",
       "});\n"
      ],
      "text/plain": [
       "<IPython.core.display.Javascript object>"
      ]
     },
     "metadata": {},
     "output_type": "display_data"
    }
   ],
   "source": [
    "import sys\n",
    "if \"..\" not in sys.path:\n",
    "    sys.path.append(\"..\")\n",
    "    \n",
    "from jp_gene_viz import LExpression"
   ]
  },
  {
   "cell_type": "code",
   "execution_count": 4,
   "metadata": {
    "collapsed": false
   },
   "outputs": [
    {
     "data": {
      "application/javascript": [
       "\n",
       "// imitating ipywidgets/docs/source/examples/Custom Widget - Hello World.ipynb\n",
       "\n",
       "//require([\"widgets/js/widget\", \"widgets/js/manager\"], function(widget, manager){\n",
       "\n",
       "require.undef(\"SVGCanvas\");\n",
       "\n",
       "define(\"SVGCanvas\", [\"jupyter-js-widgets\"], function(widgets) {\n",
       "    \n",
       "    var svgEventHandlerFactory = function(that) {\n",
       "        var svgEventHandler = function(e) {\n",
       "            var target = e.target;\n",
       "            var info = {};\n",
       "            for (var attr in e) {\n",
       "                var val = e[attr];\n",
       "                var ty = (typeof val);\n",
       "                if ((ty == \"number\") ||\n",
       "                    (ty == \"string\") ||\n",
       "                    (ty == \"boolean\")) {\n",
       "                    info[attr] = val;\n",
       "                }\n",
       "            }\n",
       "            info.name = target.ipy_name;\n",
       "            var ept = SVGEventLocation(that, e);\n",
       "            info.svgX = ept.x;\n",
       "            info.svgY = ept.y;\n",
       "            var json = JSON.stringify(info);\n",
       "            that.model.set(\"event\", json);\n",
       "            that.touch();\n",
       "        };\n",
       "        return svgEventHandler;\n",
       "    };\n",
       "\n",
       "    var SVGEventLocation = function(that, e) {\n",
       "        // http://stackoverflow.com/questions/10298658/mouse-position-inside-autoscaled-svg\n",
       "        var pt = that.reference_point;\n",
       "        var svg = that.$svg[0];\n",
       "        pt.x = e.clientX;\n",
       "        pt.y = e.clientY;\n",
       "        return pt.matrixTransform(svg.getScreenCTM().inverse());\n",
       "    }\n",
       "    \n",
       "    var SVGCanvasView = widgets.DOMWidgetView.extend({\n",
       "        \n",
       "        render: function() {\n",
       "            var that = this;\n",
       "            var svg = that.svg_elt(\"svg\");\n",
       "            var eventHandler = svgEventHandlerFactory(that);\n",
       "            that.eventHandler = eventHandler;\n",
       "            that.named_elements = {};\n",
       "            svg.ipy_name = \"\";\n",
       "            that.$svg = $(svg);\n",
       "            that.reference_point = svg.createSVGPoint();\n",
       "            svg.setAttribute(\"preserveAspectRatio\", \"none\");\n",
       "            that.$el.append(that.$svg);\n",
       "            that.svg_parameters_changed();\n",
       "            that.commands_changed();\n",
       "            that.start_watch_event();\n",
       "            that.model.on(\"change:commands\", that.commands_changed, that);\n",
       "            that.model.on(\"change:viewBox\", that.svg_parameters_changed, that);\n",
       "            that.model.on(\"change:svg_width\", that.svg_parameters_changed, that);\n",
       "            that.model.on(\"change:svg_height\", that.svg_parameters_changed, that);\n",
       "            that.model.on(\"change:style\", that.svg_parameters_changed, that);\n",
       "            that.model.on(\"change:watch_event\", that.start_watch_event, that);\n",
       "            that.model.on(\"change:unwatch_event\", that.stop_watch_event, that);\n",
       "        },\n",
       "        \n",
       "        start_watch_event: function() {\n",
       "            var that = this;\n",
       "            var event_types = that.model.get(\"watch_event\");\n",
       "            if (event_types != \"\") {\n",
       "                that.$svg.on(event_types, that.eventHandler);\n",
       "                that.model.set(\"watch_event\", \"\");\n",
       "                that.touch();\n",
       "            }\n",
       "        },\n",
       "        \n",
       "        stop_watch_event: function() {\n",
       "            var that = this;\n",
       "            var event_types = that.model.get(\"unwatch_event\");\n",
       "            if (event_types != \"\") {\n",
       "                that.$svg.off(event_types);\n",
       "                that.model.set(\"watch_event\", \"\");\n",
       "                that.touch();\n",
       "            }\n",
       "        },\n",
       "        \n",
       "        commands_changed: function() {\n",
       "            var that = this;\n",
       "            var svg = that.$svg[0];\n",
       "            var commands = that.get_JSON(\"commands\")\n",
       "            for (var i=0; i<commands.length; i++) {\n",
       "                var command_dict = commands[i];\n",
       "                var indicator = command_dict[\"command\"];\n",
       "                var method = that[\"do_\"+indicator];\n",
       "                method(that, command_dict);\n",
       "            }\n",
       "        },\n",
       "\n",
       "        do_fit: function(that, info) {\n",
       "            // fit viewport to bounding box.\n",
       "            var svg = that.$svg[0];\n",
       "            var bbox = svg.getBBox();\n",
       "            var D = {\"width\": bbox.width, \"height\": bbox.height, \"x\": bbox.x, \"y\": bbox.y}\n",
       "            var vbox = \"\" + D.x + \" \" + D.y + \" \" + D.width + \" \" + D.height;\n",
       "            if ((D.width > 0) && (D.height > 0)) {\n",
       "                that.model.set(\"boundingBox\", D);\n",
       "                if (info.changeView) {\n",
       "                    that.model.set(\"viewBox\", vbox);\n",
       "                }\n",
       "                // Element viewBox will be updated later by model change.\n",
       "                that.touch();\n",
       "            }\n",
       "        },\n",
       "        \n",
       "        do_add_element: function (that, info) {\n",
       "            var tag = info.tag;\n",
       "            var name = info.name;\n",
       "            var element = that.svg_elt(tag);\n",
       "            element.ipy_name = name;\n",
       "            var $element = $(element);\n",
       "            that.update_element($element, info);\n",
       "            // add event callbacks\n",
       "            that.$svg.append($element);\n",
       "            that.named_elements[name] = $element;\n",
       "        },\n",
       "        \n",
       "        do_change_element: function (that, info) {\n",
       "            var name = info.name;\n",
       "            var $element = that.named_elements[name];\n",
       "            if ($element) {\n",
       "                that.update_element($element, info);\n",
       "            } else {\n",
       "                console.warn(\"couldn't find element for \"+name);\n",
       "            }\n",
       "        },\n",
       "        \n",
       "        do_delete: function (that, info) {\n",
       "            var names = info.names;\n",
       "            for (var i=0; i<names.length; i++) {\n",
       "                var name = names[i];\n",
       "                var $element = that.named_elements[name];\n",
       "                if ($element) {\n",
       "                    $element.remove();\n",
       "                    delete that.named_elements[name];\n",
       "                }\n",
       "            }\n",
       "        },\n",
       "        \n",
       "        update_element: function($element, info) {\n",
       "            var element = $element[0];\n",
       "            var atts = info.atts;\n",
       "            var style = info.style;\n",
       "            var text = info.text;\n",
       "            if (atts) {\n",
       "                for (var att in atts) {\n",
       "                    element.setAttribute(att, atts[att]);\n",
       "                }\n",
       "            }\n",
       "            if (style) {\n",
       "                for (var styling in style) {\n",
       "                    element.style[styling] = style[styling];\n",
       "                }\n",
       "            }\n",
       "            if (text) {\n",
       "                $element.empty();\n",
       "                var node = document.createTextNode(text);\n",
       "                element.appendChild(node);\n",
       "            }\n",
       "        },\n",
       "        \n",
       "        do_empty: function (that, info) {\n",
       "            that.named_elements = {};\n",
       "            that.$svg.empty();\n",
       "        },\n",
       "        \n",
       "        svg_parameters_changed: function() {\n",
       "            var that = this;\n",
       "            var style_additions = that.get_JSON(\"style\");\n",
       "            var svg = that.$svg[0];\n",
       "            svg.setAttribute(\"viewBox\", that.model.get(\"viewBox\"));\n",
       "            svg.setAttribute(\"width\", that.model.get(\"svg_width\"));\n",
       "            svg.setAttribute(\"height\", that.model.get(\"svg_height\"));\n",
       "            for (var style_attr in style_additions) {\n",
       "                svg.style[style_attr] = style_additions[style_attr];\n",
       "            }\n",
       "        },\n",
       "        \n",
       "        get_JSON: function(name) {\n",
       "            var json = this.model.get(name);\n",
       "            return $.parseJSON(json);\n",
       "        },\n",
       "        \n",
       "        svg_elt: function(kind) {\n",
       "            return document.createElementNS('http://www.w3.org/2000/svg', kind);\n",
       "        }\n",
       "        \n",
       "    });\n",
       "    \n",
       "    //manager.WidgetManager.register_widget_view('SVGCanvasView', SVGCanvasView);\n",
       "    return {\n",
       "        SVGCanvasView: SVGCanvasView\n",
       "    }\n",
       "});\n"
      ],
      "text/plain": [
       "<IPython.core.display.Javascript object>"
      ]
     },
     "metadata": {},
     "output_type": "display_data"
    },
    {
     "data": {
      "application/javascript": [
       "/*\n",
       "jQuery plugin for a color arrow cursor over an element.\n",
       "\n",
       "Based on\n",
       "http://stackoverflow.com/questions/18779354/assign-color-to-mouse-cursor-using-css\n",
       "*/\n",
       "\n",
       "(function ($) {\n",
       "\n",
       "    $.fn.color_cursor = function(color) {\n",
       "        var that = this;\n",
       "        var cvs = document.createElement(\"canvas\");\n",
       "        cvs.height = 16;\n",
       "        cvs.width = 16;\n",
       "        var ctx = cvs.getContext(\"2d\");\n",
       "        ctx.strokeStyle = color;\n",
       "        ctx.lineWidth = 4;\n",
       "        ctx.lineCap = \"round\";\n",
       "        ctx.moveTo(2, 12);\n",
       "        ctx.lineTo(2, 2);\n",
       "        ctx.lineTo(12, 2);\n",
       "        ctx.moveTo(2, 2);\n",
       "        ctx.lineTo(30, 30)    \n",
       "        ctx.stroke();\n",
       "        var url = cvs.toDataURL();\n",
       "        that.css(\"cursor\", \"url(\" + url + '), auto');\n",
       "        return that;\n",
       "    };\n",
       "\n",
       "    $.fn.color_cursor_reset = function () {\n",
       "        this.css(\"cursor\", \"\");\n",
       "        return this;\n",
       "    };\n",
       "\n",
       "    $.fn.color_cursor.example = function (element) {\n",
       "        debugger;\n",
       "        var d = $(\"<div>Cursor should be red over me. Click to reset.</div>\")\n",
       "            .color_cursor(\"red\");\n",
       "        var reset = function() {\n",
       "            d.color_cursor_reset();\n",
       "            d.html(\"Now the cursor should be normal\");\n",
       "        }\n",
       "        d.click(reset);\n",
       "        element.append(d);\n",
       "        return element;\n",
       "    };\n",
       "\n",
       "})(jQuery)\n"
      ],
      "text/plain": [
       "<IPython.core.display.Javascript object>"
      ]
     },
     "metadata": {},
     "output_type": "display_data"
    }
   ],
   "source": [
    "LExpression.load_javascript_support()"
   ]
  },
  {
   "cell_type": "code",
   "execution_count": 5,
   "metadata": {
    "collapsed": false
   },
   "outputs": [
    {
     "name": "stdout",
     "output_type": "stream",
     "text": [
      "('Reading network', './Tr1Irf1_comb_koATAC_sp.tsv')\n",
      "('Loading saved layout', './Tr1Irf1_comb_koATAC_sp.tsv.layout.json')\n",
      "('Reading network', './Tr1Batf_comb_koATAC_sp.tsv')\n",
      "('Loading saved layout', './Tr1Batf_comb_koATAC_sp.tsv.layout.json')\n"
     ]
    }
   ],
   "source": [
    "for networkInit in networkInits:\n",
    "    currCol = networkInit[1]\n",
    "    networkFile = networkInit[0]\n",
    "    L = LExpression.LinkedExpressionNetwork()\n",
    "    L.show()\n",
    "    directory = \".\"\n",
    "    L.load_network(directory + '/' + networkFile)\n",
    "    L.load_heatmap(directory + '/' + expressionFile)\n",
    "    N = L.network\n",
    "    N.set_title(networkInit[2])\n",
    "    N.threshhold_slider.value = threshhold0\n",
    "    N.apply_click(None)\n",
    "    N.draw()\n",
    "    L.gene_click(None)    \n",
    "    L.expression.col = currCol    \n",
    "    L.condition_click(None)\n",
    "    N.layout_click(None)\n",
    "    N.labels_button.value=True\n"
   ]
  },
  {
   "cell_type": "code",
   "execution_count": null,
   "metadata": {
    "collapsed": true
   },
   "outputs": [],
   "source": []
  }
 ],
 "metadata": {
  "kernelspec": {
   "display_name": "Python 2",
   "language": "python",
   "name": "python2"
  },
  "language_info": {
   "codemirror_mode": {
    "name": "ipython",
    "version": 2
   },
   "file_extension": ".py",
   "mimetype": "text/x-python",
   "name": "python",
   "nbconvert_exporter": "python",
   "pygments_lexer": "ipython2",
   "version": "2.7.11"
  },
  "widgets": {
   "state": {
    "00beb028577c4e9b9f3eb29ebbb21d93": {
     "views": []
    },
    "01dc6f8ab7d14d7ead20ba75714e0766": {
     "views": []
    },
    "049fe88a973844ecbf92f86a8b6833b9": {
     "views": []
    },
    "04ec85e4fdd444f480820a6ba830ce5c": {
     "views": []
    },
    "068b1a1f6edc457d9661032995063956": {
     "views": []
    },
    "06d6835b42cd4a30a71668f16757b5ff": {
     "views": []
    },
    "07606736fab84ce6bc96a22e5be7f836": {
     "views": []
    },
    "0866ce19b2cc4c8f96996866da16b1b9": {
     "views": []
    },
    "08aa335774bf4d90a7e835e2fe2b7179": {
     "views": []
    },
    "092b90f52c74465db993ad249d30b7ee": {
     "views": []
    },
    "09b2913402194fb48b1ef78ee80c6604": {
     "views": []
    },
    "0a42f7017d7346e0b1349a737432973e": {
     "views": []
    },
    "0a9893ec19254f2da17662b7510b0940": {
     "views": []
    },
    "0da20b7aecbd43e496e19b746a8c9277": {
     "views": []
    },
    "0e38d395042f44048364052cef0c7448": {
     "views": []
    },
    "0e943d28d0f2442e96c9da71b226bb7b": {
     "views": []
    },
    "0ea99d40de4145e2b8f97e385f97bcdb": {
     "views": []
    },
    "0f57a0faa3b347589b447868ed8fd73a": {
     "views": []
    },
    "103a4e7663e64a02883ced0a439e0379": {
     "views": []
    },
    "105f446646f043a19874dbdca475fdac": {
     "views": []
    },
    "10e41927be2f48f881cff6a267d9dda7": {
     "views": []
    },
    "11e0ebdc7ee548e6b3142236de18fea3": {
     "views": []
    },
    "11fe1e1d0730420ebd3e6cd88ff65538": {
     "views": []
    },
    "1255e43380ea4058908f85b02c29b65e": {
     "views": []
    },
    "12596213e36d4acfb15666cdeea2bc0b": {
     "views": []
    },
    "12a9f743a25a4f6bb9b32716cbda9c3e": {
     "views": []
    },
    "1311b99ee40f484096411c23c7aebef4": {
     "views": []
    },
    "145dfdbb566641fab72c9c44cf9d6cb6": {
     "views": []
    },
    "146223d8074d48a489096b91536fe2ee": {
     "views": []
    },
    "14f15170de6a4f29a82b9d8d388010f1": {
     "views": []
    },
    "154d285d60ce46a1b74f1ad6e0bd5e78": {
     "views": []
    },
    "158883f384ef4321aa33031fa22c4941": {
     "views": []
    },
    "180dfda597794c17964030bbc7de1e64": {
     "views": []
    },
    "18e6093bc4d14d16a1132ff44d4c2eb4": {
     "views": []
    },
    "1a1e14eb2a634f8aa55e5ab9b4467504": {
     "views": []
    },
    "1b539d9f5e5f4e919bb9f8ab222203fd": {
     "views": []
    },
    "1d39d740aeb64f478953c86041f65f2c": {
     "views": []
    },
    "1da20374569e475cb1a38958ff6db3a7": {
     "views": []
    },
    "1deb43061df04d79be9b6dd9afadd5fd": {
     "views": []
    },
    "1f01168732aa446b89b42481c2da4930": {
     "views": []
    },
    "20cc13f63249479486e58f93091fc69a": {
     "views": []
    },
    "20e40b81d6c84644862b23ecc8e2c0e4": {
     "views": []
    },
    "20eb2f96f705490a87499b20cd1b95c1": {
     "views": []
    },
    "215be287ea844b978610280966d13a51": {
     "views": []
    },
    "21bc7a35870f4a73bc7bb2b1c452a0ce": {
     "views": []
    },
    "235e5be3642342d5b8eb911f32c9497f": {
     "views": []
    },
    "240891e607e04a81824ce8ab9058ec28": {
     "views": []
    },
    "253589ea1782465f9fac1cddd3823f81": {
     "views": []
    },
    "25f63e7955d64671b0b1e445cf9ec878": {
     "views": []
    },
    "2615ad3f33dd42f082ffe6ba35c059f5": {
     "views": []
    },
    "2617805fe2ad4f7b9772f010e85eea65": {
     "views": []
    },
    "269cc1507f1c44d68e908339b078735d": {
     "views": []
    },
    "26c6355047f6463e81f4591acc90c269": {
     "views": []
    },
    "2790d8f7bf2d47929ad662fb50b8f9e4": {
     "views": []
    },
    "28658ba3435744b8bfb702d89fe1ff74": {
     "views": []
    },
    "28d18917e9d84f73a5d4edf6ff5bc207": {
     "views": []
    },
    "293f3303451f43fab23db2b4e3c744bb": {
     "views": []
    },
    "29fa853f3eab4154940af16c193c3f5d": {
     "views": []
    },
    "2a1aa02f5c8c4181b29413627433fa90": {
     "views": []
    },
    "2a510991cdf54aefbada4a17d038b059": {
     "views": []
    },
    "2b98b2723e2e4d57ae542fbfbb264a1a": {
     "views": []
    },
    "2c3fd5eab26b4ab39bfbec6a2059ea0f": {
     "views": []
    },
    "2c6c8228a18f4a1ca2fb9fa35a116167": {
     "views": []
    },
    "2c73d7b622774305ac4d5d7b45713917": {
     "views": []
    },
    "303b5eadc65b4a92a8699908b7fa114d": {
     "views": []
    },
    "3058c7d1c5f34bee9a6f6d47b77f03d7": {
     "views": []
    },
    "30b0895ff2c747d1aa4e133a582aeb73": {
     "views": []
    },
    "3105bd33153c42fea7d817f222735d24": {
     "views": []
    },
    "31985141e42f4730a383f9be14f664b8": {
     "views": []
    },
    "31f8a150ab6f4f28bba4e9748055247a": {
     "views": []
    },
    "3273bfb013de472e92d6c8046829bcd2": {
     "views": []
    },
    "3512f6b334284930906026284c051c0a": {
     "views": []
    },
    "3659756500334befad2d7c867489c4ad": {
     "views": []
    },
    "36b895d7c8224cb7954cdc09a110404d": {
     "views": []
    },
    "3885ca03275c4c61913aa4b6f4d65dc6": {
     "views": []
    },
    "39cdf6d542cd400885e0eef2ca2bb5b0": {
     "views": []
    },
    "3a92bf665b87457d9b5543a242b8ec1f": {
     "views": []
    },
    "3ab44eca594847e28fc125f421b52ffa": {
     "views": []
    },
    "3aedc473544445ecb49c8bbfef8ff77b": {
     "views": []
    },
    "3c2ee1a4f147461f864b128facee183d": {
     "views": []
    },
    "3d8cbe118a0242efac0843adc17f8921": {
     "views": []
    },
    "3d9d0f71619e4da48846e4d889c20937": {
     "views": []
    },
    "3dedfe0281244fae910194d50995e5af": {
     "views": []
    },
    "3fc7fd864cfe405a8d30c5d9677075c0": {
     "views": []
    },
    "405f59f7c33d4374a36b4aa5146d7b87": {
     "views": []
    },
    "4108b3db70174ab499b3db626557de6e": {
     "views": []
    },
    "4112e1649cbd4145945be431f7463033": {
     "views": []
    },
    "41b6b2f9bc8c4ac9a526910b1d4f118e": {
     "views": []
    },
    "41caaab721fe4e898a5642acae2d2782": {
     "views": []
    },
    "4239188885b24a5ab9d4c15ba074cf48": {
     "views": []
    },
    "424be385960c4000b10cba80501b2274": {
     "views": []
    },
    "427962c0b0c34ca2b62393b2628f85a0": {
     "views": []
    },
    "42e70345953342068e142b9a35ee2c7b": {
     "views": []
    },
    "43161e20f7184d69b1a165b599f4c33c": {
     "views": []
    },
    "438a111cb00d49139d5268899de3ba09": {
     "views": []
    },
    "44142eba51ad48319c781bb142965ade": {
     "views": []
    },
    "446ad3b720cc41b69687521b0e558b20": {
     "views": []
    },
    "448a321876a941ff97de82a39d04519c": {
     "views": []
    },
    "451bf95abb5c49dfae7a778e2cdeac39": {
     "views": []
    },
    "45363671b14d48fda1518b45a99c9e03": {
     "views": []
    },
    "468d6636998f451dbe6b86f9ceb4c097": {
     "views": []
    },
    "4743dff7b02241a8a653902ce5980406": {
     "views": []
    },
    "48e36cd2797549daa11bd4542f4d99b1": {
     "views": []
    },
    "49c44b49773f4490a4e185c62efade96": {
     "views": []
    },
    "4ae1e92492d740da8d74cb2b2e303075": {
     "views": []
    },
    "4b4fa73579e54bb4963984d04a29157b": {
     "views": []
    },
    "4b661a5ba3914c3786aa010b34caab96": {
     "views": []
    },
    "4c25a7b3eeae49c0a1ca55b9bcc18266": {
     "views": []
    },
    "4c3376018fd94990b30de59e04174e57": {
     "views": []
    },
    "4c8918af288f4d20a992711049d1332b": {
     "views": []
    },
    "4ceaab1472174609b94d9118464d0092": {
     "views": []
    },
    "4cf03d4664ce48088e41afe1fd56d97f": {
     "views": []
    },
    "4d87c55ffca64caaa9cfc395d388c156": {
     "views": []
    },
    "4e011497319d44138ba67d3bc21fc2f9": {
     "views": []
    },
    "4ee42c3e17e945d7ba067db8723b636d": {
     "views": []
    },
    "509da011535f41dba8fc235bb1a812f0": {
     "views": []
    },
    "50b97d0866d24317ba37869f531c1e57": {
     "views": []
    },
    "50fed5bd9586427d80ddafc56c1d9e85": {
     "views": []
    },
    "51067662d94a402caf2e08e0857130b7": {
     "views": []
    },
    "51a671da910141eab2ecdce82dc2710b": {
     "views": []
    },
    "51fa0a31e65449ec94e4668193d9d897": {
     "views": []
    },
    "522cc9998db6428d9bfdee15108a206d": {
     "views": []
    },
    "52fc7036c3f74672a6e9224653443239": {
     "views": []
    },
    "5362693cba1e4c6cbf7bb344050ac71f": {
     "views": []
    },
    "542a0fd8f46f4ac0841607c8dfd609cf": {
     "views": []
    },
    "55751b2694e643459fc00111daafc810": {
     "views": []
    },
    "5620add9d29543e4815f1c6c9cdf766e": {
     "views": []
    },
    "580411de4e5140a69f82aee63aea6d4d": {
     "views": []
    },
    "5a28a1319bd241879bfa95780e705746": {
     "views": []
    },
    "5af0231a0ef44be0899488cbfcda6271": {
     "views": []
    },
    "5c85e546567b4524833dafe30e7ee38a": {
     "views": []
    },
    "5d33d89465e945de90b197579c70d1d0": {
     "views": []
    },
    "5d4d79a0f97244539d7a2420895f8648": {
     "views": []
    },
    "5e1025a5c9924814a25364852ed15694": {
     "views": []
    },
    "5f4622888ca54de598513dff9c09dc3b": {
     "views": []
    },
    "5f6cae5045534337b6a6e3ecc5caf065": {
     "views": []
    },
    "5ff703cf4f6747c1a5da72596ea39e63": {
     "views": []
    },
    "6121c52476cf4c389e37eba4d7332cbd": {
     "views": []
    },
    "61b98f32d0ba41dda24b2eba37db47f7": {
     "views": []
    },
    "61efa4f420f04563bc0f54541ff87b46": {
     "views": []
    },
    "6211c866919a420eb7ff8b2776c77b70": {
     "views": []
    },
    "62e701b3100842cca9f4478e807a4db8": {
     "views": []
    },
    "6391bc4178b34430a16e01439e2ba430": {
     "views": []
    },
    "6427c4eced5541bc877b03d4532c3913": {
     "views": []
    },
    "64d6f37eb70f428eb8d94a9bb24fde4e": {
     "views": []
    },
    "64ddb6279f8044abb90bac5f5b380440": {
     "views": []
    },
    "652008e951db4a4480ea06304ae04613": {
     "views": []
    },
    "65264241ea284870a266b03ff3dade31": {
     "views": []
    },
    "653017d5a8884f0d9afb11aae7f95b65": {
     "views": []
    },
    "661b0f5e0cfe43e3bc4dc91d9dcba4a7": {
     "views": []
    },
    "66c7f8d93eec4508a51035607c13a4b8": {
     "views": []
    },
    "6736010e1c72489fb10f2c22efee2ac9": {
     "views": []
    },
    "6746e35e55c24994aca755253296adeb": {
     "views": []
    },
    "67824842d226413292a2d6f534200d0f": {
     "views": []
    },
    "67bb95c1a5e249e39a962552bd1b350e": {
     "views": []
    },
    "691bf91accff4d1e9e025fbe474c370e": {
     "views": []
    },
    "6ac6c7d1925d4fabbf7ee1a3c40ef7dd": {
     "views": []
    },
    "6b85d7663e0a496e9a075ab3b537eb5a": {
     "views": []
    },
    "6cd42987f71044159742a6fd71f69393": {
     "views": []
    },
    "6d8df06f5d02437b8064418eef870d7b": {
     "views": []
    },
    "6de5502811b7432abbf37be7a64e3aca": {
     "views": []
    },
    "6f72472a0e4f440abae10f5563c193d6": {
     "views": []
    },
    "6f824ed331f743ee8f8656331d8b6ff1": {
     "views": []
    },
    "70dd167f59344e6b9e78e5e41c1771c1": {
     "views": []
    },
    "715b3dce9d2d4483ab276815b3bd34bf": {
     "views": []
    },
    "71c347d536c544a6a35ddb527bd7df99": {
     "views": []
    },
    "71e21cea1e064f4092ca1e42484bfd8f": {
     "views": []
    },
    "736427b381844668bf9c51781131482f": {
     "views": []
    },
    "7372ea7da0c74526b5369150c664614d": {
     "views": []
    },
    "7381142abe05424cbeb5307d709ef59c": {
     "views": []
    },
    "73b34fc4bbb24c36b2db431baf037dee": {
     "views": []
    },
    "741da0ae9e42486bae7a206918b9d09c": {
     "views": []
    },
    "74739b0cf7b549fd8eccf2256143f958": {
     "views": []
    },
    "74c39d8e82a345cda5c8a59cb5c7cfe8": {
     "views": []
    },
    "74e6af8949404d2da193bb51c18a96f8": {
     "views": []
    },
    "74eff57baadd4495aac289934828e665": {
     "views": []
    },
    "7595f975eea74b2fb493193f8b2db247": {
     "views": []
    },
    "763de335358e489fa0b6e7c23f55c71c": {
     "views": []
    },
    "76537ec15720408688c6559701e7e6ba": {
     "views": []
    },
    "77fadd3a1f504fc0a18b1ba79908c00f": {
     "views": []
    },
    "7851621189bf40f89c3e55d85ff5ebe1": {
     "views": []
    },
    "78cf5fbee51942489335c338d98fbdc8": {
     "views": []
    },
    "7907efc08da14a3089406084b2bda708": {
     "views": []
    },
    "796ab672299144a88219b3f6ef5bef51": {
     "views": []
    },
    "7970910e4d0448e795f5617184b9e799": {
     "views": []
    },
    "7a169938c24c484ea17305c2d0cb7808": {
     "views": []
    },
    "7a3ff8107c684254b99efdac87645b27": {
     "views": []
    },
    "7b71f3165f604e858e418f72465eb433": {
     "views": [
      {
       "cell_index": 4
      }
     ]
    },
    "7c5c9cc7530e4b3da8d22aadfa1b5411": {
     "views": []
    },
    "7d1635b3d1a644e282fb4e94f5b498dc": {
     "views": []
    },
    "7d3f4f3f89894b4a9fcb5540296fa466": {
     "views": []
    },
    "7d9f78e39dd4413f8218f8e7003d1426": {
     "views": []
    },
    "7ee919d8cec24e6b9106fcaad64a8fc1": {
     "views": []
    },
    "7f95d81db60d42369afe5ef4b9a9d8cf": {
     "views": []
    },
    "7fb83b041c384362be61246adc0f95bc": {
     "views": []
    },
    "8028bb5512a446fd8df5e402690500a3": {
     "views": []
    },
    "80c92feade584e07a96abc45e9af36e4": {
     "views": []
    },
    "80ded992300a41dab08073f3946c2155": {
     "views": []
    },
    "80ffccf0043a4c419f8f66256c46cae5": {
     "views": []
    },
    "8163d900eb8344078c63b28b8e6e3c8d": {
     "views": []
    },
    "823aac98f0ef45f2a84933387dd97b03": {
     "views": []
    },
    "825a7142aee64852a8a4c0be4c3c0d1e": {
     "views": []
    },
    "82947ed6b08f497fb13a461dcc637086": {
     "views": []
    },
    "84c71200ced945c2a88f588d0c2e5ba9": {
     "views": []
    },
    "85cae1a6a6d848699ce4a67bbe6c4635": {
     "views": []
    },
    "8704456d4ae94be38a9e8172bb443634": {
     "views": []
    },
    "876761d49c024fb8978645bda05f115d": {
     "views": []
    },
    "894a9cf9a7244ab6b9008e84e8ecf28d": {
     "views": []
    },
    "89952ce119ab47a1b3364f95d77d5516": {
     "views": []
    },
    "89d0250e7d054a0686fbcac09a40b94b": {
     "views": []
    },
    "8a808e54069645f9859fa9ecc635b956": {
     "views": []
    },
    "8ac4ef7244b74ed599f7f3fbabaf4a2b": {
     "views": []
    },
    "8b7b3c592c5a4eb9933fb3a355c4262d": {
     "views": []
    },
    "8be1654f670a4c8086ec6a26fc0d331e": {
     "views": []
    },
    "8d1001c8e9984d098cb79cc499fb815b": {
     "views": []
    },
    "8d495c828b1d4decb9c6ac60680a47fe": {
     "views": []
    },
    "8f8d48d8024648caa1d4a1c8c1c6c39b": {
     "views": []
    },
    "8f9dc47dd1be48808e42d280f09f6243": {
     "views": []
    },
    "8fc41f819e294d70a9f2d7e4caeb0418": {
     "views": []
    },
    "8fed3d43c7624520a4b7d1344b69dc9e": {
     "views": []
    },
    "913239ac5cc349feb60eaaec06afd471": {
     "views": []
    },
    "91acc47d1099438abccb65d6d3bbeb61": {
     "views": []
    },
    "9236f49ebdbb4cc39a36c63891fe3bb8": {
     "views": []
    },
    "92860c0fa69647cfb0a48c22596547a4": {
     "views": []
    },
    "94473048073a4b098403b267ae24a0a1": {
     "views": []
    },
    "95580ac6c7234f078bcac8cb5c477109": {
     "views": []
    },
    "95e2180de03740deba7ed81ff5368a29": {
     "views": []
    },
    "97991fe825f94b16a14905313a862b87": {
     "views": []
    },
    "97d3b83c96914fdcbf676a47a760c3d8": {
     "views": []
    },
    "9857a649c04a444aaeff60029878ee01": {
     "views": []
    },
    "986fa509e6684c03a275193c9c318d86": {
     "views": []
    },
    "98956b1f12a149c19f6fa8b2a0b6653b": {
     "views": []
    },
    "99aec7e6cdd74b3b882b414f92268df0": {
     "views": []
    },
    "99e55cea17fe47508e86331e580cb824": {
     "views": []
    },
    "9a4f80daf3b84f0ba217b4b13bfb1252": {
     "views": []
    },
    "9b3220d897e84f959ff73e24d083da9a": {
     "views": []
    },
    "9bae5f31109b47d0aba20ae0bbf8c00f": {
     "views": []
    },
    "9c4d2453684b4cb1b35e84e31b8919c2": {
     "views": []
    },
    "9c90f932ced04d66987e93b0358ad471": {
     "views": []
    },
    "9d3276d7a6a646608905059b9a20b17e": {
     "views": []
    },
    "9dc385b6b54b437583623f5766423d6d": {
     "views": []
    },
    "9de6b9e7dd9c44658725852bd64908b6": {
     "views": []
    },
    "9e9ef18bac5a4501a5d3120cb494a61f": {
     "views": []
    },
    "9ecd16581ac04e3b90a9975092023e76": {
     "views": []
    },
    "9ece26c330c64392b663876a01237967": {
     "views": []
    },
    "9eeab3fd5c1c4cc3b64da1f258442240": {
     "views": []
    },
    "a046d1cf02c747b1a55fed269ea8855b": {
     "views": []
    },
    "a0cb601c2d6c44dea06b273a58ca1f46": {
     "views": []
    },
    "a181b785517a4efab3fc5291cdba9b5b": {
     "views": []
    },
    "a3ee911aca604340aa28a5d5eabbc508": {
     "views": []
    },
    "a431efd8077842bfb1a4c6e31360dbc5": {
     "views": []
    },
    "a57da4f9f50544a69b855d70522e3d32": {
     "views": []
    },
    "a5d915d3a9154aebadf8308070e01175": {
     "views": []
    },
    "a63e643ef265467f866754450aaee7ae": {
     "views": []
    },
    "a68544c3e9a2439fb7743f242c298c56": {
     "views": []
    },
    "a886e457d00e45ff808883399c70b4de": {
     "views": []
    },
    "a899617149b84b16ad8f76fec597c58b": {
     "views": []
    },
    "a928f53a2a2f46659f78747601a98a4f": {
     "views": []
    },
    "a944ddcab21b4bdb8b5278ab1ca6e712": {
     "views": []
    },
    "aa183152d435497aa71e65e62b6a8741": {
     "views": []
    },
    "aa256bcc72fb49c090549f2e97f90f52": {
     "views": []
    },
    "abab6a0144bd45e784b6d23a93e705c4": {
     "views": []
    },
    "abbad95098534a398f283559f1137bba": {
     "views": []
    },
    "abed0efef577476a946a6fe918093379": {
     "views": []
    },
    "ac260f5eefc54bfb8e539b289a0c31ef": {
     "views": []
    },
    "ac2f7715546448558254bbafdbe8f287": {
     "views": []
    },
    "ac3a0ff132db488ca917efe7970a3aa4": {
     "views": []
    },
    "ace05cdecf984bf2a19a6c5797e92cad": {
     "views": []
    },
    "ad45127d3877420e87d3d43bec02c3fd": {
     "views": []
    },
    "ae2207c7faff4adf9728000c56f870da": {
     "views": []
    },
    "af85c3e5f41d4e968e85866fa33c8446": {
     "views": []
    },
    "b046660f2f1d42deba98d0bc64598dd8": {
     "views": []
    },
    "b060ca9c0d484cb199d65517b7358aa6": {
     "views": []
    },
    "b0d6b6b741114efb876b6e591cd55502": {
     "views": []
    },
    "b2871f86834244ce899b049450e12ec9": {
     "views": []
    },
    "b316586439d44b22852c93ec2e7f41c8": {
     "views": []
    },
    "b36c57f138d047098a7342dca870ad8c": {
     "views": []
    },
    "b37486c3794b446681e5f804f8043a1e": {
     "views": []
    },
    "b3f9747f6a324852b85fd24de3cd5501": {
     "views": []
    },
    "b4826f164cde444c9733d292818b5dd3": {
     "views": []
    },
    "b5f2c40ed9694cd89a5f680afcf8a918": {
     "views": []
    },
    "b835809f96664ea28d3c175950851199": {
     "views": []
    },
    "baae6da4fd1a42b1a508caff5cff5fb2": {
     "views": []
    },
    "badde5b8ae894aaa80d978ff7b11d3c3": {
     "views": []
    },
    "bb449ecb11ee44a19595a9c9c2487123": {
     "views": []
    },
    "be35cd5b8cce4074bdf28b8e5bcaa63a": {
     "views": []
    },
    "c086b5a7c39d4d90bf5db6cd9154b2e2": {
     "views": []
    },
    "c1d06e4875f24c428d19a34022e78102": {
     "views": []
    },
    "c2b519392d5c4f7d844b2d980d43da70": {
     "views": []
    },
    "c32c2d930470460d8efc5585396ef4e1": {
     "views": []
    },
    "c33da7a94a754ec6b6011c8f693623f2": {
     "views": []
    },
    "c59092a0cc6b403f9d8a1fea3d7603de": {
     "views": []
    },
    "c6d1b4e1aecd44d58bc2e67c21d105e2": {
     "views": []
    },
    "c7c05628eb4346df8358c6f6d7b0072e": {
     "views": []
    },
    "c7fbca4ed50a4cf996a07f0df7195c4b": {
     "views": []
    },
    "c84f761115ef4cedbf781dff5019dc6b": {
     "views": []
    },
    "c8f7e17565944b6f9d5180a663a808ee": {
     "views": []
    },
    "c98c26ae10c94a25a39d1cb05f8db2fb": {
     "views": []
    },
    "caceccb3787f4c05969bff2599cca8a6": {
     "views": []
    },
    "cae92177c6004ff4be17ae566a4a8ba5": {
     "views": []
    },
    "cb0e4d3faec44a06bfbd6bdcd3672e21": {
     "views": []
    },
    "cb59bc9482e34ddb809b84e860b8ef95": {
     "views": []
    },
    "cc6502b4e28a4728a0a43c8cb86c6a0f": {
     "views": []
    },
    "cc88aadcdc804936bb4d66180824c860": {
     "views": []
    },
    "ccdf80b3be024973bd6ba7e564efc7ff": {
     "views": []
    },
    "ccf7f934a80b461884b5af3def436fe0": {
     "views": []
    },
    "cd16874251d2492ab436f32a81751b8f": {
     "views": []
    },
    "cd34be2a505941969b5896f6ba6a50bc": {
     "views": []
    },
    "cd5043625a2b42de876bfb6b06e92f5d": {
     "views": []
    },
    "cd7bef9420de4c6dbac13dfc2c6a9d7b": {
     "views": []
    },
    "ce83fcb89d7145c19ed7b2d6e2e854c1": {
     "views": []
    },
    "cf9cb07f4a044c59b559a75a943d94c0": {
     "views": []
    },
    "cfc3d3e31fd64af6a8ce3c60a1c4c53c": {
     "views": []
    },
    "cfd9d0c2e8b74e90afdf7402ef8ccaf2": {
     "views": []
    },
    "d106a0f3b9c44963b4f8092bb5972c2b": {
     "views": []
    },
    "d1da1e58c429414d8f50d3e46d181b1e": {
     "views": []
    },
    "d20f09a6c51746619f523a0138af88f9": {
     "views": []
    },
    "d25d1c49c7104bfd9d356110cff1bf04": {
     "views": []
    },
    "d2d48e8f26ce495193152beeb8742870": {
     "views": []
    },
    "d2f1c82eeda24534a6a49c4cb26187da": {
     "views": []
    },
    "d392007898fe4ac0a11e944d7b3d7b18": {
     "views": []
    },
    "d3eecd52dd9c4e8c942f3305abe8e03a": {
     "views": []
    },
    "d45a8e8f376744ae84a2b5a0a324f732": {
     "views": []
    },
    "d47bd32928a148a7bacd05c22cc89697": {
     "views": []
    },
    "d5aa4a95524b4f289b3f30d5458c0c94": {
     "views": []
    },
    "d5bd16b3501c4af7a223297e1fc33ac7": {
     "views": []
    },
    "d6bc3f73ca1642fea4701381d9f6ca7b": {
     "views": []
    },
    "d6c69ecff5194fc3b5d3a4212e685d81": {
     "views": []
    },
    "d79c1a10648d4e698eede105669ec214": {
     "views": []
    },
    "d8b6253f865b479d9e3925e4ec118cd0": {
     "views": []
    },
    "d8d950b3689e4596bcce372077b06493": {
     "views": []
    },
    "d93665101ae5448db54c2977eb91529b": {
     "views": []
    },
    "d93f3d2cf28b43ffb7895fe24c4147d2": {
     "views": []
    },
    "d99155e65f3442a6b1709e96bad14293": {
     "views": []
    },
    "d9d66545122e4f90b58b21577e20746a": {
     "views": []
    },
    "d9d9fb4fd349436da22d70faa12d870f": {
     "views": []
    },
    "d9f62b6fc7134382b2e658a601d8f7fb": {
     "views": []
    },
    "da4aa68e1c5544a5b547aaf37ed91b27": {
     "views": []
    },
    "db13149c927948b08682492bf1196b5e": {
     "views": []
    },
    "db361cbc0c494dc694f0c2c6a2327048": {
     "views": []
    },
    "dbd4273bf449470783044d488783e79e": {
     "views": []
    },
    "dc89793dd496411dbb1d89fc9630d005": {
     "views": []
    },
    "dd75cf3fe3f94c03b8eb60a93dfe0460": {
     "views": []
    },
    "de0c8a3d8b3f4341b1a39984645adda8": {
     "views": []
    },
    "df6807d23db04c878e52601b530ef32e": {
     "views": []
    },
    "dfaaa627660e45d79052672f5545240d": {
     "views": []
    },
    "e1dc246a3ba248768ee0c82a9530276a": {
     "views": []
    },
    "e503d6591e0949f4a41d3046e2cc53c3": {
     "views": []
    },
    "e82f835b0a0f4bc4987c6cae4f8288b7": {
     "views": []
    },
    "e8c055235be44906ae07980c3ec06024": {
     "views": []
    },
    "e8c8d0590e0e4a88947caeed98d60d47": {
     "views": []
    },
    "e8e5291ce75d4846b2eb88834009127f": {
     "views": []
    },
    "ea109989616443abb0ecbb859f7f5162": {
     "views": []
    },
    "ea11dac29c5f4881abe0a10eef9ca4c2": {
     "views": []
    },
    "eb01b0d73230478f87732ad85ae46b7a": {
     "views": []
    },
    "eb1c823e61674cf99c83cb4f42d6653f": {
     "views": []
    },
    "eb81c375ee4f4b5ca77d4995cb609d8b": {
     "views": []
    },
    "ecb3d5d6c7e74e81b8b59a6798578384": {
     "views": [
      {
       "cell_index": 4
      }
     ]
    },
    "ecb7db3ae9cf4ed7b8f1987878a1b6ea": {
     "views": []
    },
    "edde054ba2604fc087409bd6de1f7c2c": {
     "views": []
    },
    "ee57396ef8f54639a4607bfe622edb0b": {
     "views": []
    },
    "eecf5e435a3b404a8cb31eadb7735c8e": {
     "views": []
    },
    "f15d5c5af7ee4e188364ea3fe72663e2": {
     "views": []
    },
    "f22565b229ab4aaca21f26e27e75c134": {
     "views": []
    },
    "f3efd192d1b4438891ccc026e636c9d8": {
     "views": []
    },
    "f4dc9cffb29f4df08c766b4b25961abe": {
     "views": []
    },
    "f613c1e7ed43488fa8f6e1bf63d9d73b": {
     "views": []
    },
    "f6b7caa2111644e9ba3dc017eb17aa07": {
     "views": []
    },
    "f765a3083f4b43edb380c3b359c01d53": {
     "views": []
    },
    "f7ddf70d16324dd6826f6ae301669af1": {
     "views": []
    },
    "f86ddcad2da14710be9d096b3e7ea7ab": {
     "views": []
    },
    "f88a699eec904121a9f7a3e26c7c0898": {
     "views": []
    },
    "f9216c1fc196480f9a8fe06c6c5a0003": {
     "views": []
    },
    "f9ef960ea62b40e386571c760566fe6b": {
     "views": []
    },
    "fa431f545cee47db9d12f5df5f8a0ada": {
     "views": []
    },
    "faa38f0a87d84fbb8be36e6fab1ecca0": {
     "views": []
    },
    "fb3b8ee8f754412fbab440fbc69c7d85": {
     "views": []
    },
    "fc9829cb4dbb4c1087f104643054e0ef": {
     "views": []
    },
    "fd57d634803b48b784643c7459e86891": {
     "views": []
    },
    "fedec108d67b45878ef509d0c5dec8a2": {
     "views": []
    }
   },
   "version": "1.1.1"
  }
 },
 "nbformat": 4,
 "nbformat_minor": 0
}
